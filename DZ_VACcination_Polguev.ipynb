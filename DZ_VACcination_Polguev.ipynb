{
 "cells": [
  {
   "cell_type": "code",
   "execution_count": 177,
   "id": "4f2b52e4",
   "metadata": {},
   "outputs": [],
   "source": [
    "import numpy\n",
    "import matplotlib.pyplot as plt\n",
    "import pandas as pd\n",
    "import re\n",
    "import numpy as np\n",
    "from statsmodels.tsa.stattools import grangercausalitytests"
   ]
  },
  {
   "cell_type": "code",
   "execution_count": 386,
   "id": "c149a59d",
   "metadata": {},
   "outputs": [],
   "source": [
    "tweets = pd.read_csv('vaccination_all_tweets.csv')\n",
    "tweets['date'] = pd.to_datetime(tweets['date']).dt.strftime('%Y%m%d').astype('int')\n",
    "tweets = tweets[['date', 'id', 'user_location']]\n",
    "tweets['user_location'] = tweets['user_location'].str.lower() # приводим location к нижнему регистру\n"
   ]
  },
  {
   "cell_type": "code",
   "execution_count": 338,
   "id": "1ba6c4b6",
   "metadata": {},
   "outputs": [
    {
     "data": {
      "text/html": [
       "<div>\n",
       "<style scoped>\n",
       "    .dataframe tbody tr th:only-of-type {\n",
       "        vertical-align: middle;\n",
       "    }\n",
       "\n",
       "    .dataframe tbody tr th {\n",
       "        vertical-align: top;\n",
       "    }\n",
       "\n",
       "    .dataframe thead th {\n",
       "        text-align: right;\n",
       "    }\n",
       "</style>\n",
       "<table border=\"1\" class=\"dataframe\">\n",
       "  <thead>\n",
       "    <tr style=\"text-align: right;\">\n",
       "      <th></th>\n",
       "      <th>date</th>\n",
       "      <th>daily_vaccinations</th>\n",
       "      <th>location</th>\n",
       "    </tr>\n",
       "  </thead>\n",
       "  <tbody>\n",
       "    <tr>\n",
       "      <th>1</th>\n",
       "      <td>20210223</td>\n",
       "      <td>1367.0</td>\n",
       "      <td>Afghanistan</td>\n",
       "    </tr>\n",
       "    <tr>\n",
       "      <th>2</th>\n",
       "      <td>20210224</td>\n",
       "      <td>1367.0</td>\n",
       "      <td>Afghanistan</td>\n",
       "    </tr>\n",
       "    <tr>\n",
       "      <th>3</th>\n",
       "      <td>20210225</td>\n",
       "      <td>1367.0</td>\n",
       "      <td>Afghanistan</td>\n",
       "    </tr>\n",
       "    <tr>\n",
       "      <th>4</th>\n",
       "      <td>20210226</td>\n",
       "      <td>1367.0</td>\n",
       "      <td>Afghanistan</td>\n",
       "    </tr>\n",
       "    <tr>\n",
       "      <th>5</th>\n",
       "      <td>20210227</td>\n",
       "      <td>1367.0</td>\n",
       "      <td>Afghanistan</td>\n",
       "    </tr>\n",
       "    <tr>\n",
       "      <th>...</th>\n",
       "      <td>...</td>\n",
       "      <td>...</td>\n",
       "      <td>...</td>\n",
       "    </tr>\n",
       "    <tr>\n",
       "      <th>43434</th>\n",
       "      <td>20210824</td>\n",
       "      <td>62638.0</td>\n",
       "      <td>Zimbabwe</td>\n",
       "    </tr>\n",
       "    <tr>\n",
       "      <th>43435</th>\n",
       "      <td>20210825</td>\n",
       "      <td>67597.0</td>\n",
       "      <td>Zimbabwe</td>\n",
       "    </tr>\n",
       "    <tr>\n",
       "      <th>43436</th>\n",
       "      <td>20210826</td>\n",
       "      <td>60688.0</td>\n",
       "      <td>Zimbabwe</td>\n",
       "    </tr>\n",
       "    <tr>\n",
       "      <th>43437</th>\n",
       "      <td>20210827</td>\n",
       "      <td>53784.0</td>\n",
       "      <td>Zimbabwe</td>\n",
       "    </tr>\n",
       "    <tr>\n",
       "      <th>43438</th>\n",
       "      <td>20210828</td>\n",
       "      <td>51016.0</td>\n",
       "      <td>Zimbabwe</td>\n",
       "    </tr>\n",
       "  </tbody>\n",
       "</table>\n",
       "<p>43172 rows × 3 columns</p>\n",
       "</div>"
      ],
      "text/plain": [
       "           date  daily_vaccinations     location\n",
       "1      20210223              1367.0  Afghanistan\n",
       "2      20210224              1367.0  Afghanistan\n",
       "3      20210225              1367.0  Afghanistan\n",
       "4      20210226              1367.0  Afghanistan\n",
       "5      20210227              1367.0  Afghanistan\n",
       "...         ...                 ...          ...\n",
       "43434  20210824             62638.0     Zimbabwe\n",
       "43435  20210825             67597.0     Zimbabwe\n",
       "43436  20210826             60688.0     Zimbabwe\n",
       "43437  20210827             53784.0     Zimbabwe\n",
       "43438  20210828             51016.0     Zimbabwe\n",
       "\n",
       "[43172 rows x 3 columns]"
      ]
     },
     "execution_count": 338,
     "metadata": {},
     "output_type": "execute_result"
    }
   ],
   "source": [
    "vaccins = pd.read_csv('vaccinations.csv')\n",
    "vaccins['date'] = pd.to_datetime(vaccins['date']).dt.strftime('%Y%m%d').astype('int')\n",
    "vaccins = vaccins[['date', 'daily_vaccinations', 'location']]\n",
    "vaccins = vaccins.dropna(subset=['daily_vaccinations'])\n",
    "vaccins"
   ]
  },
  {
   "cell_type": "markdown",
   "id": "b503edc2",
   "metadata": {},
   "source": [
    "# ИНДУСЫ"
   ]
  },
  {
   "cell_type": "markdown",
   "id": "62a132b1",
   "metadata": {},
   "source": [
    "В датасете в твиттами трудно идентифицировать локацию автора твита, потому что данный столбик не стандартизирован (где то тупо город написан, где то город и штат, где то какая то хрень). Я обнаружил что  довольно много индусов, попробуем оценить как влияли твиты индусов на вакцинацию индусов."
   ]
  },
  {
   "cell_type": "code",
   "execution_count": 392,
   "id": "9d8f8f7f",
   "metadata": {
    "scrolled": true
   },
   "outputs": [
    {
     "data": {
      "text/html": [
       "<div>\n",
       "<style scoped>\n",
       "    .dataframe tbody tr th:only-of-type {\n",
       "        vertical-align: middle;\n",
       "    }\n",
       "\n",
       "    .dataframe tbody tr th {\n",
       "        vertical-align: top;\n",
       "    }\n",
       "\n",
       "    .dataframe thead th {\n",
       "        text-align: right;\n",
       "    }\n",
       "</style>\n",
       "<table border=\"1\" class=\"dataframe\">\n",
       "  <thead>\n",
       "    <tr style=\"text-align: right;\">\n",
       "      <th></th>\n",
       "      <th>date</th>\n",
       "      <th>id</th>\n",
       "      <th>user_location</th>\n",
       "    </tr>\n",
       "  </thead>\n",
       "  <tbody>\n",
       "    <tr>\n",
       "      <th>12</th>\n",
       "      <td>20201212</td>\n",
       "      <td>1337815730486702087</td>\n",
       "      <td>india</td>\n",
       "    </tr>\n",
       "    <tr>\n",
       "      <th>23</th>\n",
       "      <td>20201212</td>\n",
       "      <td>1337773751841144833</td>\n",
       "      <td>mumbai, india</td>\n",
       "    </tr>\n",
       "    <tr>\n",
       "      <th>51</th>\n",
       "      <td>20201214</td>\n",
       "      <td>1338631874814619653</td>\n",
       "      <td>india | usa</td>\n",
       "    </tr>\n",
       "    <tr>\n",
       "      <th>75</th>\n",
       "      <td>20201214</td>\n",
       "      <td>1338574693087936513</td>\n",
       "      <td>india</td>\n",
       "    </tr>\n",
       "    <tr>\n",
       "      <th>94</th>\n",
       "      <td>20201214</td>\n",
       "      <td>1338551175587786752</td>\n",
       "      <td>india</td>\n",
       "    </tr>\n",
       "  </tbody>\n",
       "</table>\n",
       "</div>"
      ],
      "text/plain": [
       "        date                   id  user_location\n",
       "12  20201212  1337815730486702087          india\n",
       "23  20201212  1337773751841144833  mumbai, india\n",
       "51  20201214  1338631874814619653    india | usa\n",
       "75  20201214  1338574693087936513          india\n",
       "94  20201214  1338551175587786752          india"
      ]
     },
     "execution_count": 392,
     "metadata": {},
     "output_type": "execute_result"
    }
   ],
   "source": [
    "tweets_ind= tweets.dropna(subset=['user_location'])\n",
    "tweets_ind = tweets_ind[tweets_ind['user_location'].str.contains('.*india.*', case=False)]\n",
    "tweets_ind.head()"
   ]
  },
  {
   "cell_type": "code",
   "execution_count": 340,
   "id": "37d442b6",
   "metadata": {},
   "outputs": [],
   "source": [
    "tweets_ind = tweets_ind.groupby(['date']).count()\n",
    "tweets_ind = tweets_ind.rename(columns={'id': 'tweets'})"
   ]
  },
  {
   "cell_type": "code",
   "execution_count": 341,
   "id": "1b3a9a5b",
   "metadata": {},
   "outputs": [],
   "source": [
    "vaccins_ind = vaccins[vaccins['location']=='India']"
   ]
  },
  {
   "cell_type": "code",
   "execution_count": 343,
   "id": "52ceae16",
   "metadata": {},
   "outputs": [
    {
     "data": {
      "text/html": [
       "<div>\n",
       "<style scoped>\n",
       "    .dataframe tbody tr th:only-of-type {\n",
       "        vertical-align: middle;\n",
       "    }\n",
       "\n",
       "    .dataframe tbody tr th {\n",
       "        vertical-align: top;\n",
       "    }\n",
       "\n",
       "    .dataframe thead th {\n",
       "        text-align: right;\n",
       "    }\n",
       "</style>\n",
       "<table border=\"1\" class=\"dataframe\">\n",
       "  <thead>\n",
       "    <tr style=\"text-align: right;\">\n",
       "      <th></th>\n",
       "      <th>date</th>\n",
       "      <th>tweets</th>\n",
       "      <th>user_location</th>\n",
       "      <th>daily_vaccinations</th>\n",
       "      <th>location</th>\n",
       "    </tr>\n",
       "  </thead>\n",
       "  <tbody>\n",
       "    <tr>\n",
       "      <th>0</th>\n",
       "      <td>20210116</td>\n",
       "      <td>10</td>\n",
       "      <td>10</td>\n",
       "      <td>191181.0</td>\n",
       "      <td>India</td>\n",
       "    </tr>\n",
       "    <tr>\n",
       "      <th>1</th>\n",
       "      <td>20210117</td>\n",
       "      <td>10</td>\n",
       "      <td>10</td>\n",
       "      <td>112150.0</td>\n",
       "      <td>India</td>\n",
       "    </tr>\n",
       "    <tr>\n",
       "      <th>2</th>\n",
       "      <td>20210118</td>\n",
       "      <td>3</td>\n",
       "      <td>3</td>\n",
       "      <td>151350.0</td>\n",
       "      <td>India</td>\n",
       "    </tr>\n",
       "    <tr>\n",
       "      <th>3</th>\n",
       "      <td>20210119</td>\n",
       "      <td>3</td>\n",
       "      <td>3</td>\n",
       "      <td>168709.0</td>\n",
       "      <td>India</td>\n",
       "    </tr>\n",
       "    <tr>\n",
       "      <th>4</th>\n",
       "      <td>20210120</td>\n",
       "      <td>2</td>\n",
       "      <td>2</td>\n",
       "      <td>161297.0</td>\n",
       "      <td>India</td>\n",
       "    </tr>\n",
       "    <tr>\n",
       "      <th>...</th>\n",
       "      <td>...</td>\n",
       "      <td>...</td>\n",
       "      <td>...</td>\n",
       "      <td>...</td>\n",
       "      <td>...</td>\n",
       "    </tr>\n",
       "    <tr>\n",
       "      <th>194</th>\n",
       "      <td>20210824</td>\n",
       "      <td>239</td>\n",
       "      <td>239</td>\n",
       "      <td>4601598.0</td>\n",
       "      <td>India</td>\n",
       "    </tr>\n",
       "    <tr>\n",
       "      <th>195</th>\n",
       "      <td>20210825</td>\n",
       "      <td>220</td>\n",
       "      <td>220</td>\n",
       "      <td>5110246.0</td>\n",
       "      <td>India</td>\n",
       "    </tr>\n",
       "    <tr>\n",
       "      <th>196</th>\n",
       "      <td>20210826</td>\n",
       "      <td>299</td>\n",
       "      <td>299</td>\n",
       "      <td>5399358.0</td>\n",
       "      <td>India</td>\n",
       "    </tr>\n",
       "    <tr>\n",
       "      <th>197</th>\n",
       "      <td>20210827</td>\n",
       "      <td>282</td>\n",
       "      <td>282</td>\n",
       "      <td>6047866.0</td>\n",
       "      <td>India</td>\n",
       "    </tr>\n",
       "    <tr>\n",
       "      <th>198</th>\n",
       "      <td>20210828</td>\n",
       "      <td>243</td>\n",
       "      <td>243</td>\n",
       "      <td>7071278.0</td>\n",
       "      <td>India</td>\n",
       "    </tr>\n",
       "  </tbody>\n",
       "</table>\n",
       "<p>199 rows × 5 columns</p>\n",
       "</div>"
      ],
      "text/plain": [
       "         date  tweets  user_location  daily_vaccinations location\n",
       "0    20210116      10             10            191181.0    India\n",
       "1    20210117      10             10            112150.0    India\n",
       "2    20210118       3              3            151350.0    India\n",
       "3    20210119       3              3            168709.0    India\n",
       "4    20210120       2              2            161297.0    India\n",
       "..        ...     ...            ...                 ...      ...\n",
       "194  20210824     239            239           4601598.0    India\n",
       "195  20210825     220            220           5110246.0    India\n",
       "196  20210826     299            299           5399358.0    India\n",
       "197  20210827     282            282           6047866.0    India\n",
       "198  20210828     243            243           7071278.0    India\n",
       "\n",
       "[199 rows x 5 columns]"
      ]
     },
     "execution_count": 343,
     "metadata": {},
     "output_type": "execute_result"
    }
   ],
   "source": [
    "indus_df = pd.merge(tweets_ind, vaccins_ind, on='date')\n",
    "indus_df"
   ]
  },
  {
   "cell_type": "code",
   "execution_count": 344,
   "id": "13faa35a",
   "metadata": {},
   "outputs": [
    {
     "data": {
      "text/plain": [
       "<matplotlib.legend.Legend at 0x2ba6c9b4520>"
      ]
     },
     "execution_count": 344,
     "metadata": {},
     "output_type": "execute_result"
    },
    {
     "data": {
      "image/png": "[encoded data removed]",
      "text/plain": [
       "<Figure size 640x480 with 1 Axes>"
      ]
     },
     "metadata": {},
     "output_type": "display_data"
    }
   ],
   "source": [
    "plt.plot(indus_df['tweets']/(indus_df['tweets'].max()), label = 'tweets')\n",
    "plt.plot(indus_df['daily_vaccinations']/(indus_df['daily_vaccinations'].max()), label = 'vaccins')\n",
    "plt.legend()"
   ]
  },
  {
   "cell_type": "code",
   "execution_count": 350,
   "id": "522d5aaf",
   "metadata": {},
   "outputs": [
    {
     "name": "stdout",
     "output_type": "stream",
     "text": [
      "\n",
      "Granger Causality\n",
      "number of lags (no zero) 5\n",
      "ssr based F test:         F=2.7188  , p=0.0214  , df_denom=183, df_num=5\n",
      "ssr based chi2 test:   chi2=14.4111 , p=0.0132  , df=5\n",
      "likelihood ratio test: chi2=13.9009 , p=0.0163  , df=5\n",
      "parameter F test:         F=2.7188  , p=0.0214  , df_denom=183, df_num=5\n"
     ]
    },
    {
     "data": {
      "text/plain": [
       "{5: ({'ssr_ftest': (2.718793436222462, 0.021408544202427167, 183.0, 5),\n",
       "   'ssr_chi2test': (14.411090891452394, 0.013198559518021385, 5),\n",
       "   'lrtest': (13.900947517829081, 0.0162510047935239, 5),\n",
       "   'params_ftest': (2.718793436225913, 0.021408544202287525, 183.0, 5.0)},\n",
       "  [<statsmodels.regression.linear_model.RegressionResultsWrapper at 0x2ba6c0b3c70>,\n",
       "   <statsmodels.regression.linear_model.RegressionResultsWrapper at 0x2ba61430880>,\n",
       "   array([[0., 0., 0., 0., 0., 1., 0., 0., 0., 0., 0.],\n",
       "          [0., 0., 0., 0., 0., 0., 1., 0., 0., 0., 0.],\n",
       "          [0., 0., 0., 0., 0., 0., 0., 1., 0., 0., 0.],\n",
       "          [0., 0., 0., 0., 0., 0., 0., 0., 1., 0., 0.],\n",
       "          [0., 0., 0., 0., 0., 0., 0., 0., 0., 1., 0.]])])}"
      ]
     },
     "execution_count": 350,
     "metadata": {},
     "output_type": "execute_result"
    }
   ],
   "source": [
    "grangercausalitytests(indus_df[['tweets', 'daily_vaccinations' ]],maxlag=[5])"
   ]
  },
  {
   "cell_type": "markdown",
   "id": "72fdba93",
   "metadata": {},
   "source": [
    "## Примем p_value 0.05. Можно сказать, что количество твитов от индусов, влияет на количество вакцинаций индусов"
   ]
  },
  {
   "cell_type": "code",
   "execution_count": 351,
   "id": "4703d73e",
   "metadata": {},
   "outputs": [
    {
     "name": "stdout",
     "output_type": "stream",
     "text": [
      "\n",
      "Granger Causality\n",
      "number of lags (no zero) 5\n",
      "ssr based F test:         F=1.8109  , p=0.1127  , df_denom=183, df_num=5\n",
      "ssr based chi2 test:   chi2=9.5987  , p=0.0874  , df=5\n",
      "likelihood ratio test: chi2=9.3687  , p=0.0952  , df=5\n",
      "parameter F test:         F=1.8109  , p=0.1127  , df_denom=183, df_num=5\n"
     ]
    },
    {
     "data": {
      "text/plain": [
       "{5: ({'ssr_ftest': (1.8108799155807593, 0.11273095762890419, 183.0, 5),\n",
       "   'ssr_chi2test': (9.598653104444463, 0.087439508067318, 5),\n",
       "   'lrtest': (9.368746976973853, 0.0952295998342811, 5),\n",
       "   'params_ftest': (1.8108799155819308, 0.11273095762867365, 183.0, 5.0)},\n",
       "  [<statsmodels.regression.linear_model.RegressionResultsWrapper at 0x2ba613d2530>,\n",
       "   <statsmodels.regression.linear_model.RegressionResultsWrapper at 0x2ba6c0b3eb0>,\n",
       "   array([[0., 0., 0., 0., 0., 1., 0., 0., 0., 0., 0.],\n",
       "          [0., 0., 0., 0., 0., 0., 1., 0., 0., 0., 0.],\n",
       "          [0., 0., 0., 0., 0., 0., 0., 1., 0., 0., 0.],\n",
       "          [0., 0., 0., 0., 0., 0., 0., 0., 1., 0., 0.],\n",
       "          [0., 0., 0., 0., 0., 0., 0., 0., 0., 1., 0.]])])}"
      ]
     },
     "execution_count": 351,
     "metadata": {},
     "output_type": "execute_result"
    }
   ],
   "source": [
    "grangercausalitytests(indus_df[['daily_vaccinations', 'tweets']],maxlag=[5])"
   ]
  },
  {
   "cell_type": "markdown",
   "id": "470baacd",
   "metadata": {},
   "source": [
    "## Можно сказать, что количество вакцинаций индусов, не влияет на количество твитов о вакцинации от индусов. Точнее у нас недостаточно оснований утверждать обратное"
   ]
  },
  {
   "cell_type": "markdown",
   "id": "e9729d5f",
   "metadata": {},
   "source": [
    "# американцы"
   ]
  },
  {
   "cell_type": "code",
   "execution_count": 318,
   "id": "d42b3233",
   "metadata": {},
   "outputs": [
    {
     "data": {
      "text/html": [
       "<div>\n",
       "<style scoped>\n",
       "    .dataframe tbody tr th:only-of-type {\n",
       "        vertical-align: middle;\n",
       "    }\n",
       "\n",
       "    .dataframe tbody tr th {\n",
       "        vertical-align: top;\n",
       "    }\n",
       "\n",
       "    .dataframe thead th {\n",
       "        text-align: right;\n",
       "    }\n",
       "</style>\n",
       "<table border=\"1\" class=\"dataframe\">\n",
       "  <thead>\n",
       "    <tr style=\"text-align: right;\">\n",
       "      <th></th>\n",
       "      <th>date</th>\n",
       "      <th>id</th>\n",
       "      <th>user_location</th>\n",
       "    </tr>\n",
       "  </thead>\n",
       "  <tbody>\n",
       "    <tr>\n",
       "      <th>38</th>\n",
       "      <td>20201212</td>\n",
       "      <td>1337733927885303808</td>\n",
       "      <td>usa🇺🇸</td>\n",
       "    </tr>\n",
       "    <tr>\n",
       "      <th>41</th>\n",
       "      <td>20201212</td>\n",
       "      <td>1337732996380696578</td>\n",
       "      <td>usa🇺🇸</td>\n",
       "    </tr>\n",
       "    <tr>\n",
       "      <th>51</th>\n",
       "      <td>20201214</td>\n",
       "      <td>1338631874814619653</td>\n",
       "      <td>india | usa</td>\n",
       "    </tr>\n",
       "    <tr>\n",
       "      <th>57</th>\n",
       "      <td>20201214</td>\n",
       "      <td>1338612922600333315</td>\n",
       "      <td>li, nyc, nj, pa, ne, usa</td>\n",
       "    </tr>\n",
       "    <tr>\n",
       "      <th>79</th>\n",
       "      <td>20201214</td>\n",
       "      <td>1338572466898100224</td>\n",
       "      <td>new jersey, usa</td>\n",
       "    </tr>\n",
       "    <tr>\n",
       "      <th>...</th>\n",
       "      <td>...</td>\n",
       "      <td>...</td>\n",
       "      <td>...</td>\n",
       "    </tr>\n",
       "    <tr>\n",
       "      <th>228085</th>\n",
       "      <td>20211117</td>\n",
       "      <td>1460982803491966978</td>\n",
       "      <td>usa</td>\n",
       "    </tr>\n",
       "    <tr>\n",
       "      <th>228089</th>\n",
       "      <td>20211117</td>\n",
       "      <td>1460958950699016199</td>\n",
       "      <td>usa</td>\n",
       "    </tr>\n",
       "    <tr>\n",
       "      <th>228120</th>\n",
       "      <td>20211117</td>\n",
       "      <td>1460820743672016903</td>\n",
       "      <td>fremont, ca, usa</td>\n",
       "    </tr>\n",
       "    <tr>\n",
       "      <th>228127</th>\n",
       "      <td>20211117</td>\n",
       "      <td>1460795411258613765</td>\n",
       "      <td>usa</td>\n",
       "    </tr>\n",
       "    <tr>\n",
       "      <th>228183</th>\n",
       "      <td>20211115</td>\n",
       "      <td>1460307159498072070</td>\n",
       "      <td>florida, usa</td>\n",
       "    </tr>\n",
       "  </tbody>\n",
       "</table>\n",
       "<p>6412 rows × 3 columns</p>\n",
       "</div>"
      ],
      "text/plain": [
       "            date                   id             user_location\n",
       "38      20201212  1337733927885303808                     usa🇺🇸\n",
       "41      20201212  1337732996380696578                     usa🇺🇸\n",
       "51      20201214  1338631874814619653               india | usa\n",
       "57      20201214  1338612922600333315  li, nyc, nj, pa, ne, usa\n",
       "79      20201214  1338572466898100224           new jersey, usa\n",
       "...          ...                  ...                       ...\n",
       "228085  20211117  1460982803491966978                       usa\n",
       "228089  20211117  1460958950699016199                       usa\n",
       "228120  20211117  1460820743672016903          fremont, ca, usa\n",
       "228127  20211117  1460795411258613765                       usa\n",
       "228183  20211115  1460307159498072070              florida, usa\n",
       "\n",
       "[6412 rows x 3 columns]"
      ]
     },
     "execution_count": 318,
     "metadata": {},
     "output_type": "execute_result"
    }
   ],
   "source": [
    "tweets_usa = tweets[tweets['user_location'].str.contains('.*usa.*', case=False)]\n",
    "tweets_usa"
   ]
  },
  {
   "cell_type": "markdown",
   "id": "05865c32",
   "metadata": {},
   "source": [
    "   выделилось всего 6000 американских тивттов, но там их гораздо больше, просто многие указывают только город и штат. Поэтому попробуем взять данные всех твиттов и оценить их влияние на американцев. И еще отдельно попробуем индусов исключить раз их так много в датасете и тоже оценим."
   ]
  },
  {
   "cell_type": "code",
   "execution_count": 389,
   "id": "76faf814",
   "metadata": {},
   "outputs": [
    {
     "data": {
      "text/html": [
       "<div>\n",
       "<style scoped>\n",
       "    .dataframe tbody tr th:only-of-type {\n",
       "        vertical-align: middle;\n",
       "    }\n",
       "\n",
       "    .dataframe tbody tr th {\n",
       "        vertical-align: top;\n",
       "    }\n",
       "\n",
       "    .dataframe thead th {\n",
       "        text-align: right;\n",
       "    }\n",
       "</style>\n",
       "<table border=\"1\" class=\"dataframe\">\n",
       "  <thead>\n",
       "    <tr style=\"text-align: right;\">\n",
       "      <th></th>\n",
       "      <th>tweets</th>\n",
       "      <th>user_location</th>\n",
       "    </tr>\n",
       "    <tr>\n",
       "      <th>date</th>\n",
       "      <th></th>\n",
       "      <th></th>\n",
       "    </tr>\n",
       "  </thead>\n",
       "  <tbody>\n",
       "    <tr>\n",
       "      <th>20201212</th>\n",
       "      <td>63</td>\n",
       "      <td>50</td>\n",
       "    </tr>\n",
       "    <tr>\n",
       "      <th>20201213</th>\n",
       "      <td>98</td>\n",
       "      <td>78</td>\n",
       "    </tr>\n",
       "    <tr>\n",
       "      <th>20201214</th>\n",
       "      <td>137</td>\n",
       "      <td>112</td>\n",
       "    </tr>\n",
       "    <tr>\n",
       "      <th>20201215</th>\n",
       "      <td>150</td>\n",
       "      <td>115</td>\n",
       "    </tr>\n",
       "    <tr>\n",
       "      <th>20201216</th>\n",
       "      <td>144</td>\n",
       "      <td>118</td>\n",
       "    </tr>\n",
       "    <tr>\n",
       "      <th>...</th>\n",
       "      <td>...</td>\n",
       "      <td>...</td>\n",
       "    </tr>\n",
       "    <tr>\n",
       "      <th>20211119</th>\n",
       "      <td>846</td>\n",
       "      <td>541</td>\n",
       "    </tr>\n",
       "    <tr>\n",
       "      <th>20211120</th>\n",
       "      <td>765</td>\n",
       "      <td>509</td>\n",
       "    </tr>\n",
       "    <tr>\n",
       "      <th>20211121</th>\n",
       "      <td>629</td>\n",
       "      <td>363</td>\n",
       "    </tr>\n",
       "    <tr>\n",
       "      <th>20211122</th>\n",
       "      <td>612</td>\n",
       "      <td>418</td>\n",
       "    </tr>\n",
       "    <tr>\n",
       "      <th>20211123</th>\n",
       "      <td>472</td>\n",
       "      <td>354</td>\n",
       "    </tr>\n",
       "  </tbody>\n",
       "</table>\n",
       "<p>319 rows × 2 columns</p>\n",
       "</div>"
      ],
      "text/plain": [
       "          tweets  user_location\n",
       "date                           \n",
       "20201212      63             50\n",
       "20201213      98             78\n",
       "20201214     137            112\n",
       "20201215     150            115\n",
       "20201216     144            118\n",
       "...          ...            ...\n",
       "20211119     846            541\n",
       "20211120     765            509\n",
       "20211121     629            363\n",
       "20211122     612            418\n",
       "20211123     472            354\n",
       "\n",
       "[319 rows x 2 columns]"
      ]
     },
     "execution_count": 389,
     "metadata": {},
     "output_type": "execute_result"
    }
   ],
   "source": [
    "tweets_world = tweets.groupby(['date']).count()\n",
    "tweets_world = tweets_world.rename(columns={'id': 'tweets'})\n",
    "tweets_world"
   ]
  },
  {
   "cell_type": "code",
   "execution_count": 363,
   "id": "4db6b01a",
   "metadata": {},
   "outputs": [],
   "source": [
    "vaccins_usa = vaccins[vaccins['location']=='United States' ]"
   ]
  },
  {
   "cell_type": "code",
   "execution_count": 366,
   "id": "0b71ad21",
   "metadata": {},
   "outputs": [
    {
     "data": {
      "text/html": [
       "<div>\n",
       "<style scoped>\n",
       "    .dataframe tbody tr th:only-of-type {\n",
       "        vertical-align: middle;\n",
       "    }\n",
       "\n",
       "    .dataframe tbody tr th {\n",
       "        vertical-align: top;\n",
       "    }\n",
       "\n",
       "    .dataframe thead th {\n",
       "        text-align: right;\n",
       "    }\n",
       "</style>\n",
       "<table border=\"1\" class=\"dataframe\">\n",
       "  <thead>\n",
       "    <tr style=\"text-align: right;\">\n",
       "      <th></th>\n",
       "      <th>date</th>\n",
       "      <th>tweets</th>\n",
       "      <th>user_location</th>\n",
       "      <th>daily_vaccinations</th>\n",
       "      <th>location</th>\n",
       "    </tr>\n",
       "  </thead>\n",
       "  <tbody>\n",
       "    <tr>\n",
       "      <th>0</th>\n",
       "      <td>20201221</td>\n",
       "      <td>83</td>\n",
       "      <td>83</td>\n",
       "      <td>57909.0</td>\n",
       "      <td>United States</td>\n",
       "    </tr>\n",
       "    <tr>\n",
       "      <th>1</th>\n",
       "      <td>20201222</td>\n",
       "      <td>128</td>\n",
       "      <td>128</td>\n",
       "      <td>127432.0</td>\n",
       "      <td>United States</td>\n",
       "    </tr>\n",
       "    <tr>\n",
       "      <th>2</th>\n",
       "      <td>20201223</td>\n",
       "      <td>107</td>\n",
       "      <td>107</td>\n",
       "      <td>150606.0</td>\n",
       "      <td>United States</td>\n",
       "    </tr>\n",
       "    <tr>\n",
       "      <th>3</th>\n",
       "      <td>20201224</td>\n",
       "      <td>85</td>\n",
       "      <td>85</td>\n",
       "      <td>191001.0</td>\n",
       "      <td>United States</td>\n",
       "    </tr>\n",
       "    <tr>\n",
       "      <th>4</th>\n",
       "      <td>20201225</td>\n",
       "      <td>30</td>\n",
       "      <td>30</td>\n",
       "      <td>215238.0</td>\n",
       "      <td>United States</td>\n",
       "    </tr>\n",
       "    <tr>\n",
       "      <th>...</th>\n",
       "      <td>...</td>\n",
       "      <td>...</td>\n",
       "      <td>...</td>\n",
       "      <td>...</td>\n",
       "      <td>...</td>\n",
       "    </tr>\n",
       "    <tr>\n",
       "      <th>221</th>\n",
       "      <td>20210824</td>\n",
       "      <td>702</td>\n",
       "      <td>702</td>\n",
       "      <td>860114.0</td>\n",
       "      <td>United States</td>\n",
       "    </tr>\n",
       "    <tr>\n",
       "      <th>222</th>\n",
       "      <td>20210825</td>\n",
       "      <td>705</td>\n",
       "      <td>705</td>\n",
       "      <td>891838.0</td>\n",
       "      <td>United States</td>\n",
       "    </tr>\n",
       "    <tr>\n",
       "      <th>223</th>\n",
       "      <td>20210826</td>\n",
       "      <td>830</td>\n",
       "      <td>830</td>\n",
       "      <td>877756.0</td>\n",
       "      <td>United States</td>\n",
       "    </tr>\n",
       "    <tr>\n",
       "      <th>224</th>\n",
       "      <td>20210827</td>\n",
       "      <td>712</td>\n",
       "      <td>712</td>\n",
       "      <td>886314.0</td>\n",
       "      <td>United States</td>\n",
       "    </tr>\n",
       "    <tr>\n",
       "      <th>225</th>\n",
       "      <td>20210828</td>\n",
       "      <td>617</td>\n",
       "      <td>617</td>\n",
       "      <td>889615.0</td>\n",
       "      <td>United States</td>\n",
       "    </tr>\n",
       "  </tbody>\n",
       "</table>\n",
       "<p>226 rows × 5 columns</p>\n",
       "</div>"
      ],
      "text/plain": [
       "         date  tweets  user_location  daily_vaccinations       location\n",
       "0    20201221      83             83             57909.0  United States\n",
       "1    20201222     128            128            127432.0  United States\n",
       "2    20201223     107            107            150606.0  United States\n",
       "3    20201224      85             85            191001.0  United States\n",
       "4    20201225      30             30            215238.0  United States\n",
       "..        ...     ...            ...                 ...            ...\n",
       "221  20210824     702            702            860114.0  United States\n",
       "222  20210825     705            705            891838.0  United States\n",
       "223  20210826     830            830            877756.0  United States\n",
       "224  20210827     712            712            886314.0  United States\n",
       "225  20210828     617            617            889615.0  United States\n",
       "\n",
       "[226 rows x 5 columns]"
      ]
     },
     "execution_count": 366,
     "metadata": {},
     "output_type": "execute_result"
    }
   ],
   "source": [
    "burger_df= pd.merge(tweets_world, vaccins_usa, on='date')\n",
    "burger_df"
   ]
  },
  {
   "cell_type": "code",
   "execution_count": 393,
   "id": "06ad6cb0",
   "metadata": {},
   "outputs": [
    {
     "data": {
      "text/plain": [
       "<matplotlib.legend.Legend at 0x2ba68f24730>"
      ]
     },
     "execution_count": 393,
     "metadata": {},
     "output_type": "execute_result"
    },
    {
     "data": {
      "image/png": "[encoded data removed]",
      "text/plain": [
       "<Figure size 640x480 with 1 Axes>"
      ]
     },
     "metadata": {},
     "output_type": "display_data"
    }
   ],
   "source": [
    "plt.plot(burger_df['tweets']/(burger_df['tweets'].max()), label = 'tweets')\n",
    "plt.plot(burger_df['daily_vaccinations']/(burger_df['daily_vaccinations'].max()), label = 'vaccins')\n",
    "plt.legend()"
   ]
  },
  {
   "cell_type": "code",
   "execution_count": 395,
   "id": "e1478981",
   "metadata": {},
   "outputs": [
    {
     "name": "stdout",
     "output_type": "stream",
     "text": [
      "\n",
      "Granger Causality\n",
      "number of lags (no zero) 5\n",
      "ssr based F test:         F=1.6116  , p=0.1583  , df_denom=210, df_num=5\n",
      "ssr based chi2 test:   chi2=8.4800  , p=0.1317  , df=5\n",
      "likelihood ratio test: chi2=8.3213  , p=0.1394  , df=5\n",
      "parameter F test:         F=1.6116  , p=0.1583  , df_denom=210, df_num=5\n"
     ]
    },
    {
     "data": {
      "text/plain": [
       "{5: ({'ssr_ftest': (1.6115827741243023, 0.15826933016609393, 210.0, 5),\n",
       "   'ssr_chi2test': (8.479995073368352, 0.13169121602407943, 5),\n",
       "   'lrtest': (8.321347641140619, 0.13939222481877206, 5),\n",
       "   'params_ftest': (1.6115827741216406, 0.1582693301668136, 210.0, 5.0)},\n",
       "  [<statsmodels.regression.linear_model.RegressionResultsWrapper at 0x2ba6f6e7d60>,\n",
       "   <statsmodels.regression.linear_model.RegressionResultsWrapper at 0x2ba6c9b6c20>,\n",
       "   array([[0., 0., 0., 0., 0., 1., 0., 0., 0., 0., 0.],\n",
       "          [0., 0., 0., 0., 0., 0., 1., 0., 0., 0., 0.],\n",
       "          [0., 0., 0., 0., 0., 0., 0., 1., 0., 0., 0.],\n",
       "          [0., 0., 0., 0., 0., 0., 0., 0., 1., 0., 0.],\n",
       "          [0., 0., 0., 0., 0., 0., 0., 0., 0., 1., 0.]])])}"
      ]
     },
     "execution_count": 395,
     "metadata": {},
     "output_type": "execute_result"
    }
   ],
   "source": [
    "grangercausalitytests(burger_df[['tweets', 'daily_vaccinations' ]],maxlag=[5])"
   ]
  },
  {
   "cell_type": "markdown",
   "id": "e7b96ee9",
   "metadata": {},
   "source": [
    "## Можно сказать, что количество твитов о вакцинации в мире, не влияет на количество вакцинаций американцами"
   ]
  },
  {
   "cell_type": "code",
   "execution_count": 396,
   "id": "f94e2d1a",
   "metadata": {},
   "outputs": [
    {
     "name": "stdout",
     "output_type": "stream",
     "text": [
      "\n",
      "Granger Causality\n",
      "number of lags (no zero) 5\n",
      "ssr based F test:         F=7.0526  , p=0.0000  , df_denom=210, df_num=5\n",
      "ssr based chi2 test:   chi2=37.1102 , p=0.0000  , df=5\n",
      "likelihood ratio test: chi2=34.3045 , p=0.0000  , df=5\n",
      "parameter F test:         F=7.0526  , p=0.0000  , df_denom=210, df_num=5\n"
     ]
    },
    {
     "data": {
      "text/plain": [
       "{5: ({'ssr_ftest': (7.052620970103484, 4.074572027132965e-06, 210.0, 5),\n",
       "   'ssr_chi2test': (37.1102198664969, 5.692346435890168e-07, 5),\n",
       "   'lrtest': (34.304504212390384, 2.0706981201976275e-06, 5),\n",
       "   'params_ftest': (7.0526209701034785, 4.074572027133018e-06, 210.0, 5.0)},\n",
       "  [<statsmodels.regression.linear_model.RegressionResultsWrapper at 0x2ba635ae110>,\n",
       "   <statsmodels.regression.linear_model.RegressionResultsWrapper at 0x2ba6f6e7310>,\n",
       "   array([[0., 0., 0., 0., 0., 1., 0., 0., 0., 0., 0.],\n",
       "          [0., 0., 0., 0., 0., 0., 1., 0., 0., 0., 0.],\n",
       "          [0., 0., 0., 0., 0., 0., 0., 1., 0., 0., 0.],\n",
       "          [0., 0., 0., 0., 0., 0., 0., 0., 1., 0., 0.],\n",
       "          [0., 0., 0., 0., 0., 0., 0., 0., 0., 1., 0.]])])}"
      ]
     },
     "execution_count": 396,
     "metadata": {},
     "output_type": "execute_result"
    }
   ],
   "source": [
    "grangercausalitytests(burger_df[['daily_vaccinations', 'tweets' ]],maxlag=[5])"
   ]
  },
  {
   "cell_type": "markdown",
   "id": "66f047e0",
   "metadata": {},
   "source": [
    "## Можно сказать, что количество вакцинаций американцев,влияет на количество твитов о вакцинации"
   ]
  },
  {
   "cell_type": "code",
   "execution_count": null,
   "id": "5b9d1ac9",
   "metadata": {},
   "outputs": [],
   "source": []
  },
  {
   "cell_type": "markdown",
   "id": "11b6eb8f",
   "metadata": {},
   "source": [
    "Рассмотрим без индусов и без тех, у кого не указана страна"
   ]
  },
  {
   "cell_type": "code",
   "execution_count": 402,
   "id": "638d8dec",
   "metadata": {},
   "outputs": [
    {
     "data": {
      "text/html": [
       "<div>\n",
       "<style scoped>\n",
       "    .dataframe tbody tr th:only-of-type {\n",
       "        vertical-align: middle;\n",
       "    }\n",
       "\n",
       "    .dataframe tbody tr th {\n",
       "        vertical-align: top;\n",
       "    }\n",
       "\n",
       "    .dataframe thead th {\n",
       "        text-align: right;\n",
       "    }\n",
       "</style>\n",
       "<table border=\"1\" class=\"dataframe\">\n",
       "  <thead>\n",
       "    <tr style=\"text-align: right;\">\n",
       "      <th></th>\n",
       "      <th>tweets</th>\n",
       "      <th>user_location</th>\n",
       "    </tr>\n",
       "    <tr>\n",
       "      <th>date</th>\n",
       "      <th></th>\n",
       "      <th></th>\n",
       "    </tr>\n",
       "  </thead>\n",
       "  <tbody>\n",
       "    <tr>\n",
       "      <th>20201212</th>\n",
       "      <td>46</td>\n",
       "      <td>46</td>\n",
       "    </tr>\n",
       "    <tr>\n",
       "      <th>20201213</th>\n",
       "      <td>70</td>\n",
       "      <td>70</td>\n",
       "    </tr>\n",
       "    <tr>\n",
       "      <th>20201214</th>\n",
       "      <td>104</td>\n",
       "      <td>104</td>\n",
       "    </tr>\n",
       "    <tr>\n",
       "      <th>20201215</th>\n",
       "      <td>110</td>\n",
       "      <td>110</td>\n",
       "    </tr>\n",
       "    <tr>\n",
       "      <th>20201216</th>\n",
       "      <td>110</td>\n",
       "      <td>110</td>\n",
       "    </tr>\n",
       "    <tr>\n",
       "      <th>...</th>\n",
       "      <td>...</td>\n",
       "      <td>...</td>\n",
       "    </tr>\n",
       "    <tr>\n",
       "      <th>20211119</th>\n",
       "      <td>450</td>\n",
       "      <td>450</td>\n",
       "    </tr>\n",
       "    <tr>\n",
       "      <th>20211120</th>\n",
       "      <td>362</td>\n",
       "      <td>362</td>\n",
       "    </tr>\n",
       "    <tr>\n",
       "      <th>20211121</th>\n",
       "      <td>289</td>\n",
       "      <td>289</td>\n",
       "    </tr>\n",
       "    <tr>\n",
       "      <th>20211122</th>\n",
       "      <td>319</td>\n",
       "      <td>319</td>\n",
       "    </tr>\n",
       "    <tr>\n",
       "      <th>20211123</th>\n",
       "      <td>265</td>\n",
       "      <td>265</td>\n",
       "    </tr>\n",
       "  </tbody>\n",
       "</table>\n",
       "<p>319 rows × 2 columns</p>\n",
       "</div>"
      ],
      "text/plain": [
       "          tweets  user_location\n",
       "date                           \n",
       "20201212      46             46\n",
       "20201213      70             70\n",
       "20201214     104            104\n",
       "20201215     110            110\n",
       "20201216     110            110\n",
       "...          ...            ...\n",
       "20211119     450            450\n",
       "20211120     362            362\n",
       "20211121     289            289\n",
       "20211122     319            319\n",
       "20211123     265            265\n",
       "\n",
       "[319 rows x 2 columns]"
      ]
     },
     "execution_count": 402,
     "metadata": {},
     "output_type": "execute_result"
    }
   ],
   "source": [
    "tweets_world_bez_ind= tweets.dropna(subset=['user_location'])\n",
    "tweets_world_bez_ind = tweets_world_bez_ind[~ tweets_world_bez_ind['user_location'].str.contains('.*india.*', case=False)]\n",
    "tweets_world_bez_ind = tweets_world_bez_ind.groupby(['date']).count()\n",
    "tweets_world_bez_ind = tweets_world_bez_ind.rename(columns={'id': 'tweets'})\n",
    "tweets_world_bez_ind"
   ]
  },
  {
   "cell_type": "code",
   "execution_count": 403,
   "id": "e6a7c34a",
   "metadata": {},
   "outputs": [
    {
     "data": {
      "text/html": [
       "<div>\n",
       "<style scoped>\n",
       "    .dataframe tbody tr th:only-of-type {\n",
       "        vertical-align: middle;\n",
       "    }\n",
       "\n",
       "    .dataframe tbody tr th {\n",
       "        vertical-align: top;\n",
       "    }\n",
       "\n",
       "    .dataframe thead th {\n",
       "        text-align: right;\n",
       "    }\n",
       "</style>\n",
       "<table border=\"1\" class=\"dataframe\">\n",
       "  <thead>\n",
       "    <tr style=\"text-align: right;\">\n",
       "      <th></th>\n",
       "      <th>date</th>\n",
       "      <th>tweets</th>\n",
       "      <th>user_location</th>\n",
       "      <th>daily_vaccinations</th>\n",
       "      <th>location</th>\n",
       "    </tr>\n",
       "  </thead>\n",
       "  <tbody>\n",
       "    <tr>\n",
       "      <th>0</th>\n",
       "      <td>20201221</td>\n",
       "      <td>78</td>\n",
       "      <td>78</td>\n",
       "      <td>57909.0</td>\n",
       "      <td>United States</td>\n",
       "    </tr>\n",
       "    <tr>\n",
       "      <th>1</th>\n",
       "      <td>20201222</td>\n",
       "      <td>109</td>\n",
       "      <td>109</td>\n",
       "      <td>127432.0</td>\n",
       "      <td>United States</td>\n",
       "    </tr>\n",
       "    <tr>\n",
       "      <th>2</th>\n",
       "      <td>20201223</td>\n",
       "      <td>106</td>\n",
       "      <td>106</td>\n",
       "      <td>150606.0</td>\n",
       "      <td>United States</td>\n",
       "    </tr>\n",
       "    <tr>\n",
       "      <th>3</th>\n",
       "      <td>20201224</td>\n",
       "      <td>81</td>\n",
       "      <td>81</td>\n",
       "      <td>191001.0</td>\n",
       "      <td>United States</td>\n",
       "    </tr>\n",
       "    <tr>\n",
       "      <th>4</th>\n",
       "      <td>20201225</td>\n",
       "      <td>27</td>\n",
       "      <td>27</td>\n",
       "      <td>215238.0</td>\n",
       "      <td>United States</td>\n",
       "    </tr>\n",
       "    <tr>\n",
       "      <th>...</th>\n",
       "      <td>...</td>\n",
       "      <td>...</td>\n",
       "      <td>...</td>\n",
       "      <td>...</td>\n",
       "      <td>...</td>\n",
       "    </tr>\n",
       "    <tr>\n",
       "      <th>221</th>\n",
       "      <td>20210824</td>\n",
       "      <td>463</td>\n",
       "      <td>463</td>\n",
       "      <td>860114.0</td>\n",
       "      <td>United States</td>\n",
       "    </tr>\n",
       "    <tr>\n",
       "      <th>222</th>\n",
       "      <td>20210825</td>\n",
       "      <td>485</td>\n",
       "      <td>485</td>\n",
       "      <td>891838.0</td>\n",
       "      <td>United States</td>\n",
       "    </tr>\n",
       "    <tr>\n",
       "      <th>223</th>\n",
       "      <td>20210826</td>\n",
       "      <td>531</td>\n",
       "      <td>531</td>\n",
       "      <td>877756.0</td>\n",
       "      <td>United States</td>\n",
       "    </tr>\n",
       "    <tr>\n",
       "      <th>224</th>\n",
       "      <td>20210827</td>\n",
       "      <td>430</td>\n",
       "      <td>430</td>\n",
       "      <td>886314.0</td>\n",
       "      <td>United States</td>\n",
       "    </tr>\n",
       "    <tr>\n",
       "      <th>225</th>\n",
       "      <td>20210828</td>\n",
       "      <td>374</td>\n",
       "      <td>374</td>\n",
       "      <td>889615.0</td>\n",
       "      <td>United States</td>\n",
       "    </tr>\n",
       "  </tbody>\n",
       "</table>\n",
       "<p>226 rows × 5 columns</p>\n",
       "</div>"
      ],
      "text/plain": [
       "         date  tweets  user_location  daily_vaccinations       location\n",
       "0    20201221      78             78             57909.0  United States\n",
       "1    20201222     109            109            127432.0  United States\n",
       "2    20201223     106            106            150606.0  United States\n",
       "3    20201224      81             81            191001.0  United States\n",
       "4    20201225      27             27            215238.0  United States\n",
       "..        ...     ...            ...                 ...            ...\n",
       "221  20210824     463            463            860114.0  United States\n",
       "222  20210825     485            485            891838.0  United States\n",
       "223  20210826     531            531            877756.0  United States\n",
       "224  20210827     430            430            886314.0  United States\n",
       "225  20210828     374            374            889615.0  United States\n",
       "\n",
       "[226 rows x 5 columns]"
      ]
     },
     "execution_count": 403,
     "metadata": {},
     "output_type": "execute_result"
    }
   ],
   "source": [
    "burger_df2= pd.merge(tweets_world_bez_ind, vaccins_usa, on='date')\n",
    "burger_df2"
   ]
  },
  {
   "cell_type": "code",
   "execution_count": 404,
   "id": "095df78f",
   "metadata": {},
   "outputs": [
    {
     "data": {
      "text/plain": [
       "<matplotlib.legend.Legend at 0x2ba69c33370>"
      ]
     },
     "execution_count": 404,
     "metadata": {},
     "output_type": "execute_result"
    },
    {
     "data": {
      "image/png": "[encoded data removed]",
      "text/plain": [
       "<Figure size 640x480 with 1 Axes>"
      ]
     },
     "metadata": {},
     "output_type": "display_data"
    }
   ],
   "source": [
    "plt.plot(burger_df2['tweets']/(burger_df2['tweets'].max()), label = 'tweets')\n",
    "plt.plot(burger_df2['daily_vaccinations']/(burger_df2['daily_vaccinations'].max()), label = 'vaccins')\n",
    "plt.legend()"
   ]
  },
  {
   "cell_type": "code",
   "execution_count": 405,
   "id": "aaf3877d",
   "metadata": {},
   "outputs": [
    {
     "name": "stdout",
     "output_type": "stream",
     "text": [
      "\n",
      "Granger Causality\n",
      "number of lags (no zero) 5\n",
      "ssr based F test:         F=2.8632  , p=0.0159  , df_denom=210, df_num=5\n",
      "ssr based chi2 test:   chi2=15.0658 , p=0.0101  , df=5\n",
      "likelihood ratio test: chi2=14.5745 , p=0.0123  , df=5\n",
      "parameter F test:         F=2.8632  , p=0.0159  , df_denom=210, df_num=5\n"
     ]
    },
    {
     "data": {
      "text/plain": [
       "{5: ({'ssr_ftest': (2.863189232119906, 0.01594840202815096, 210.0, 5),\n",
       "   'ssr_chi2test': (15.065829054726175, 0.010084732880628557, 5),\n",
       "   'lrtest': (14.574508283946216, 0.012343853835158219, 5),\n",
       "   'params_ftest': (2.863189232118363, 0.01594840202819819, 210.0, 5.0)},\n",
       "  [<statsmodels.regression.linear_model.RegressionResultsWrapper at 0x2ba68f25900>,\n",
       "   <statsmodels.regression.linear_model.RegressionResultsWrapper at 0x2ba69c31300>,\n",
       "   array([[0., 0., 0., 0., 0., 1., 0., 0., 0., 0., 0.],\n",
       "          [0., 0., 0., 0., 0., 0., 1., 0., 0., 0., 0.],\n",
       "          [0., 0., 0., 0., 0., 0., 0., 1., 0., 0., 0.],\n",
       "          [0., 0., 0., 0., 0., 0., 0., 0., 1., 0., 0.],\n",
       "          [0., 0., 0., 0., 0., 0., 0., 0., 0., 1., 0.]])])}"
      ]
     },
     "execution_count": 405,
     "metadata": {},
     "output_type": "execute_result"
    }
   ],
   "source": [
    "grangercausalitytests(burger_df2[['tweets', 'daily_vaccinations' ]],maxlag=[5])"
   ]
  },
  {
   "cell_type": "markdown",
   "id": "7b4ed745",
   "metadata": {},
   "source": [
    "## Получаем что если удалить индусов, то количество твитов влияет на количество вакцин"
   ]
  },
  {
   "cell_type": "code",
   "execution_count": 406,
   "id": "689d2d9a",
   "metadata": {},
   "outputs": [
    {
     "name": "stdout",
     "output_type": "stream",
     "text": [
      "\n",
      "Granger Causality\n",
      "number of lags (no zero) 5\n",
      "ssr based F test:         F=7.0526  , p=0.0000  , df_denom=210, df_num=5\n",
      "ssr based chi2 test:   chi2=37.1102 , p=0.0000  , df=5\n",
      "likelihood ratio test: chi2=34.3045 , p=0.0000  , df=5\n",
      "parameter F test:         F=7.0526  , p=0.0000  , df_denom=210, df_num=5\n"
     ]
    },
    {
     "data": {
      "text/plain": [
       "{5: ({'ssr_ftest': (7.052620970103484, 4.074572027132965e-06, 210.0, 5),\n",
       "   'ssr_chi2test': (37.1102198664969, 5.692346435890168e-07, 5),\n",
       "   'lrtest': (34.304504212390384, 2.0706981201976275e-06, 5),\n",
       "   'params_ftest': (7.0526209701034785, 4.074572027133018e-06, 210.0, 5.0)},\n",
       "  [<statsmodels.regression.linear_model.RegressionResultsWrapper at 0x2ba69c220e0>,\n",
       "   <statsmodels.regression.linear_model.RegressionResultsWrapper at 0x2ba69c22da0>,\n",
       "   array([[0., 0., 0., 0., 0., 1., 0., 0., 0., 0., 0.],\n",
       "          [0., 0., 0., 0., 0., 0., 1., 0., 0., 0., 0.],\n",
       "          [0., 0., 0., 0., 0., 0., 0., 1., 0., 0., 0.],\n",
       "          [0., 0., 0., 0., 0., 0., 0., 0., 1., 0., 0.],\n",
       "          [0., 0., 0., 0., 0., 0., 0., 0., 0., 1., 0.]])])}"
      ]
     },
     "execution_count": 406,
     "metadata": {},
     "output_type": "execute_result"
    }
   ],
   "source": [
    "grangercausalitytests(burger_df[['daily_vaccinations', 'tweets' ]],maxlag=[5])"
   ]
  },
  {
   "cell_type": "markdown",
   "id": "a6fd60b6",
   "metadata": {},
   "source": [
    "## Можно сказать, что количество вакцинаций американцев,влияет на количество твитов о вакцинации"
   ]
  },
  {
   "cell_type": "code",
   "execution_count": null,
   "id": "4cea7b8b",
   "metadata": {},
   "outputs": [],
   "source": []
  }
 ],
 "metadata": {
  "kernelspec": {
   "display_name": "Python 3 (ipykernel)",
   "language": "python",
   "name": "python3"
  },
  "language_info": {
   "codemirror_mode": {
    "name": "ipython",
    "version": 3
   },
   "file_extension": ".py",
   "mimetype": "text/x-python",
   "name": "python",
   "nbconvert_exporter": "python",
   "pygments_lexer": "ipython3",
   "version": "3.10.9"
  }
 },
 "nbformat": 4,
 "nbformat_minor": 5
}
